{
 "cells": [
  {
   "cell_type": "code",
   "execution_count": 2,
   "metadata": {},
   "outputs": [],
   "source": [
    "import numpy as np\n",
    "import matplotlib.pyplot as plt\n",
    "import pandas as pd\n",
    "import requests\n",
    "from bs4 import BeautifulSoup"
   ]
  },
  {
   "cell_type": "code",
   "execution_count": 3,
   "metadata": {},
   "outputs": [
    {
     "name": "stdout",
     "output_type": "stream",
     "text": [
      "<class 'requests.models.Response'>\n"
     ]
    }
   ],
   "source": [
    "url = 'https://www.imdb.com/chart/top'\n",
    "\n",
    "## Fetch the webpage\n",
    "r = requests.get(url)\n",
    "print (type(r))"
   ]
  },
  {
   "cell_type": "code",
   "execution_count": 4,
   "metadata": {},
   "outputs": [
    {
     "data": {
      "text/plain": [
       "200"
      ]
     },
     "execution_count": 4,
     "metadata": {},
     "output_type": "execute_result"
    }
   ],
   "source": [
    "r.status_code"
   ]
  },
  {
   "cell_type": "code",
   "execution_count": 5,
   "metadata": {},
   "outputs": [],
   "source": [
    "info = r.text"
   ]
  },
  {
   "cell_type": "code",
   "execution_count": 6,
   "metadata": {},
   "outputs": [],
   "source": [
    "soup = BeautifulSoup(r.text, 'html.parser')"
   ]
  },
  {
   "cell_type": "code",
   "execution_count": 7,
   "metadata": {},
   "outputs": [
    {
     "name": "stdout",
     "output_type": "stream",
     "text": [
      "<class 'bs4.BeautifulSoup'>\n"
     ]
    }
   ],
   "source": [
    "print (type(soup))"
   ]
  },
  {
   "cell_type": "code",
   "execution_count": 8,
   "metadata": {},
   "outputs": [],
   "source": [
    "TITLES = []\n",
    "YEARS = []\n",
    "RATINGS = []\n",
    "URLS = []\n",
    "\n",
    "ACTORS = []\n",
    "DIRECTORS = []"
   ]
  },
  {
   "cell_type": "code",
   "execution_count": 9,
   "metadata": {},
   "outputs": [
    {
     "name": "stdout",
     "output_type": "stream",
     "text": [
      "1\n",
      "<class 'bs4.element.Tag'>\n"
     ]
    }
   ],
   "source": [
    "table_inf = soup.find_all('tbody', {'class': 'lister-list'})\n",
    "print (len(table_inf))\n",
    "print (type(table_inf[0]))\n",
    "\n",
    "doc = table_inf[0]"
   ]
  },
  {
   "cell_type": "code",
   "execution_count": 10,
   "metadata": {},
   "outputs": [
    {
     "name": "stdout",
     "output_type": "stream",
     "text": [
      "250\n"
     ]
    }
   ],
   "source": [
    "rows = doc.find_all('tr')\n",
    "print (len(rows))"
   ]
  },
  {
   "cell_type": "code",
   "execution_count": 11,
   "metadata": {},
   "outputs": [
    {
     "name": "stdout",
     "output_type": "stream",
     "text": [
      "<span class=\"secondaryInfo\">(1994)</span>\n",
      "The Shawshank Redemption\n",
      "<class 'bytes'>\n"
     ]
    }
   ],
   "source": [
    "test_row = rows[0]\n",
    "title_column = test_row.find('td', {'class' : 'titleColumn'})\n",
    "print (title_column.span)\n",
    "print (title_column.a.text)\n",
    "print (type(title_column.a.text.encode('utf-8')))"
   ]
  },
  {
   "cell_type": "code",
   "execution_count": 12,
   "metadata": {},
   "outputs": [
    {
     "name": "stdout",
     "output_type": "stream",
     "text": [
      "250\n"
     ]
    }
   ],
   "source": [
    "count = 0\n",
    "movie_root_url = 'https://www.imdb.com'\n",
    "for row in rows:\n",
    "    #if count>4:\n",
    "     #   break\n",
    "    count+=1\n",
    "    title_column = row.find('td', {'class': 'titleColumn'})\n",
    "    rating_column = row.find('td', {'class' : 'ratingColumn'})\n",
    "    \n",
    "    movie_title = title_column.a.text\n",
    "    year = title_column.span.text.split('(')[-1].split(')')[0]\n",
    "    movie_rel_url = title_column.a['href']\n",
    "    movie_url = movie_root_url + movie_rel_url\n",
    "    \n",
    "    imp_people = title_column.a['title']\n",
    "    director = imp_people.split(',')[0].split('(')[0].strip()\n",
    "    \n",
    "    actors = ','.join(imp_people.split(',')[1:]).strip()\n",
    "    \n",
    "    rating = rating_column.strong.text\n",
    "    \n",
    "    TITLES.append(movie_title.encode('utf-8'))\n",
    "    YEARS.append(year.encode('utf-8'))\n",
    "    URLS.append(movie_url.encode('utf-8'))\n",
    "    RATINGS.append(rating.encode('utf-8'))\n",
    "    \n",
    "    ACTORS.append(actors.encode('utf-8'))\n",
    "    DIRECTORS.append(director.encode('utf-8'))\n",
    "    \n",
    "#     print movie_title\n",
    "#     print year\n",
    "#     print rating\n",
    "#     print movie_url\n",
    "#     print director\n",
    "#     print actors\n",
    "    #print '--------'\n",
    "print (count)"
   ]
  },
  {
   "cell_type": "code",
   "execution_count": 13,
   "metadata": {},
   "outputs": [
    {
     "name": "stdout",
     "output_type": "stream",
     "text": [
      "<class 'bs4.element.Tag'>\n"
     ]
    }
   ],
   "source": [
    "print (type(title_column))"
   ]
  },
  {
   "cell_type": "code",
   "execution_count": 14,
   "metadata": {},
   "outputs": [
    {
     "name": "stdout",
     "output_type": "stream",
     "text": [
      "250\n",
      "250\n",
      "250\n",
      "250\n"
     ]
    }
   ],
   "source": [
    "print (len(TITLES))\n",
    "print (len(DIRECTORS))\n",
    "print (len(ACTORS))\n",
    "print (len(RATINGS))"
   ]
  },
  {
   "cell_type": "code",
   "execution_count": 15,
   "metadata": {},
   "outputs": [],
   "source": [
    "empty_df = pd.DataFrame({'Title': TITLES, 'Rating': RATINGS, 'Year': YEARS, 'URL': URLS, 'Director': DIRECTORS, 'Actors': ACTORS}, columns=['Title', 'Year', 'Rating', 'Director', 'Actors', 'URL'])"
   ]
  },
  {
   "cell_type": "code",
   "execution_count": 16,
   "metadata": {},
   "outputs": [
    {
     "data": {
      "text/html": [
       "<div>\n",
       "<style scoped>\n",
       "    .dataframe tbody tr th:only-of-type {\n",
       "        vertical-align: middle;\n",
       "    }\n",
       "\n",
       "    .dataframe tbody tr th {\n",
       "        vertical-align: top;\n",
       "    }\n",
       "\n",
       "    .dataframe thead th {\n",
       "        text-align: right;\n",
       "    }\n",
       "</style>\n",
       "<table border=\"1\" class=\"dataframe\">\n",
       "  <thead>\n",
       "    <tr style=\"text-align: right;\">\n",
       "      <th></th>\n",
       "      <th>Title</th>\n",
       "      <th>Year</th>\n",
       "      <th>Rating</th>\n",
       "      <th>Director</th>\n",
       "      <th>Actors</th>\n",
       "      <th>URL</th>\n",
       "    </tr>\n",
       "  </thead>\n",
       "  <tbody>\n",
       "    <tr>\n",
       "      <th>0</th>\n",
       "      <td>b'The Shawshank Redemption'</td>\n",
       "      <td>b'1994'</td>\n",
       "      <td>b'9.2'</td>\n",
       "      <td>b'Frank Darabont'</td>\n",
       "      <td>b'Tim Robbins, Morgan Freeman'</td>\n",
       "      <td>b'https://www.imdb.com/title/tt0111161/?pf_rd_...</td>\n",
       "    </tr>\n",
       "    <tr>\n",
       "      <th>1</th>\n",
       "      <td>b'The Godfather'</td>\n",
       "      <td>b'1972'</td>\n",
       "      <td>b'9.2'</td>\n",
       "      <td>b'Francis Ford Coppola'</td>\n",
       "      <td>b'Marlon Brando, Al Pacino'</td>\n",
       "      <td>b'https://www.imdb.com/title/tt0068646/?pf_rd_...</td>\n",
       "    </tr>\n",
       "    <tr>\n",
       "      <th>2</th>\n",
       "      <td>b'The Godfather: Part II'</td>\n",
       "      <td>b'1974'</td>\n",
       "      <td>b'9.0'</td>\n",
       "      <td>b'Francis Ford Coppola'</td>\n",
       "      <td>b'Al Pacino, Robert De Niro'</td>\n",
       "      <td>b'https://www.imdb.com/title/tt0071562/?pf_rd_...</td>\n",
       "    </tr>\n",
       "    <tr>\n",
       "      <th>3</th>\n",
       "      <td>b'The Dark Knight'</td>\n",
       "      <td>b'2008'</td>\n",
       "      <td>b'9.0'</td>\n",
       "      <td>b'Christopher Nolan'</td>\n",
       "      <td>b'Christian Bale, Heath Ledger'</td>\n",
       "      <td>b'https://www.imdb.com/title/tt0468569/?pf_rd_...</td>\n",
       "    </tr>\n",
       "  </tbody>\n",
       "</table>\n",
       "</div>"
      ],
      "text/plain": [
       "                         Title     Year  Rating                 Director  \\\n",
       "0  b'The Shawshank Redemption'  b'1994'  b'9.2'        b'Frank Darabont'   \n",
       "1             b'The Godfather'  b'1972'  b'9.2'  b'Francis Ford Coppola'   \n",
       "2    b'The Godfather: Part II'  b'1974'  b'9.0'  b'Francis Ford Coppola'   \n",
       "3           b'The Dark Knight'  b'2008'  b'9.0'     b'Christopher Nolan'   \n",
       "\n",
       "                            Actors  \\\n",
       "0   b'Tim Robbins, Morgan Freeman'   \n",
       "1      b'Marlon Brando, Al Pacino'   \n",
       "2     b'Al Pacino, Robert De Niro'   \n",
       "3  b'Christian Bale, Heath Ledger'   \n",
       "\n",
       "                                                 URL  \n",
       "0  b'https://www.imdb.com/title/tt0111161/?pf_rd_...  \n",
       "1  b'https://www.imdb.com/title/tt0068646/?pf_rd_...  \n",
       "2  b'https://www.imdb.com/title/tt0071562/?pf_rd_...  \n",
       "3  b'https://www.imdb.com/title/tt0468569/?pf_rd_...  "
      ]
     },
     "execution_count": 16,
     "metadata": {},
     "output_type": "execute_result"
    }
   ],
   "source": [
    "empty_df.head(n=4)"
   ]
  },
  {
   "cell_type": "code",
   "execution_count": 17,
   "metadata": {},
   "outputs": [],
   "source": [
    "empty_df.to_csv('./imdb.csv', index=False)"
   ]
  },
  {
   "cell_type": "code",
   "execution_count": 18,
   "metadata": {},
   "outputs": [
    {
     "data": {
      "text/html": [
       "<div>\n",
       "<style scoped>\n",
       "    .dataframe tbody tr th:only-of-type {\n",
       "        vertical-align: middle;\n",
       "    }\n",
       "\n",
       "    .dataframe tbody tr th {\n",
       "        vertical-align: top;\n",
       "    }\n",
       "\n",
       "    .dataframe thead th {\n",
       "        text-align: right;\n",
       "    }\n",
       "</style>\n",
       "<table border=\"1\" class=\"dataframe\">\n",
       "  <thead>\n",
       "    <tr style=\"text-align: right;\">\n",
       "      <th></th>\n",
       "      <th>Title</th>\n",
       "      <th>Year</th>\n",
       "      <th>Rating</th>\n",
       "      <th>Director</th>\n",
       "      <th>Actors</th>\n",
       "      <th>URL</th>\n",
       "    </tr>\n",
       "  </thead>\n",
       "  <tbody>\n",
       "    <tr>\n",
       "      <th>0</th>\n",
       "      <td>b'The Shawshank Redemption'</td>\n",
       "      <td>b'1994'</td>\n",
       "      <td>b'9.2'</td>\n",
       "      <td>b'Frank Darabont'</td>\n",
       "      <td>b'Tim Robbins, Morgan Freeman'</td>\n",
       "      <td>b'https://www.imdb.com/title/tt0111161/?pf_rd_...</td>\n",
       "    </tr>\n",
       "    <tr>\n",
       "      <th>1</th>\n",
       "      <td>b'The Godfather'</td>\n",
       "      <td>b'1972'</td>\n",
       "      <td>b'9.2'</td>\n",
       "      <td>b'Francis Ford Coppola'</td>\n",
       "      <td>b'Marlon Brando, Al Pacino'</td>\n",
       "      <td>b'https://www.imdb.com/title/tt0068646/?pf_rd_...</td>\n",
       "    </tr>\n",
       "    <tr>\n",
       "      <th>2</th>\n",
       "      <td>b'The Godfather: Part II'</td>\n",
       "      <td>b'1974'</td>\n",
       "      <td>b'9.0'</td>\n",
       "      <td>b'Francis Ford Coppola'</td>\n",
       "      <td>b'Al Pacino, Robert De Niro'</td>\n",
       "      <td>b'https://www.imdb.com/title/tt0071562/?pf_rd_...</td>\n",
       "    </tr>\n",
       "    <tr>\n",
       "      <th>3</th>\n",
       "      <td>b'The Dark Knight'</td>\n",
       "      <td>b'2008'</td>\n",
       "      <td>b'9.0'</td>\n",
       "      <td>b'Christopher Nolan'</td>\n",
       "      <td>b'Christian Bale, Heath Ledger'</td>\n",
       "      <td>b'https://www.imdb.com/title/tt0468569/?pf_rd_...</td>\n",
       "    </tr>\n",
       "    <tr>\n",
       "      <th>4</th>\n",
       "      <td>b'12 Angry Men'</td>\n",
       "      <td>b'1957'</td>\n",
       "      <td>b'8.9'</td>\n",
       "      <td>b'Sidney Lumet'</td>\n",
       "      <td>b'Henry Fonda, Lee J. Cobb'</td>\n",
       "      <td>b'https://www.imdb.com/title/tt0050083/?pf_rd_...</td>\n",
       "    </tr>\n",
       "  </tbody>\n",
       "</table>\n",
       "</div>"
      ],
      "text/plain": [
       "                         Title     Year  Rating                 Director  \\\n",
       "0  b'The Shawshank Redemption'  b'1994'  b'9.2'        b'Frank Darabont'   \n",
       "1             b'The Godfather'  b'1972'  b'9.2'  b'Francis Ford Coppola'   \n",
       "2    b'The Godfather: Part II'  b'1974'  b'9.0'  b'Francis Ford Coppola'   \n",
       "3           b'The Dark Knight'  b'2008'  b'9.0'     b'Christopher Nolan'   \n",
       "4              b'12 Angry Men'  b'1957'  b'8.9'          b'Sidney Lumet'   \n",
       "\n",
       "                            Actors  \\\n",
       "0   b'Tim Robbins, Morgan Freeman'   \n",
       "1      b'Marlon Brando, Al Pacino'   \n",
       "2     b'Al Pacino, Robert De Niro'   \n",
       "3  b'Christian Bale, Heath Ledger'   \n",
       "4      b'Henry Fonda, Lee J. Cobb'   \n",
       "\n",
       "                                                 URL  \n",
       "0  b'https://www.imdb.com/title/tt0111161/?pf_rd_...  \n",
       "1  b'https://www.imdb.com/title/tt0068646/?pf_rd_...  \n",
       "2  b'https://www.imdb.com/title/tt0071562/?pf_rd_...  \n",
       "3  b'https://www.imdb.com/title/tt0468569/?pf_rd_...  \n",
       "4  b'https://www.imdb.com/title/tt0050083/?pf_rd_...  "
      ]
     },
     "execution_count": 18,
     "metadata": {},
     "output_type": "execute_result"
    }
   ],
   "source": [
    "movie_data = pd.read_csv('imdb.csv')\n",
    "movie_data.head(n=5)"
   ]
  },
  {
   "cell_type": "code",
   "execution_count": 19,
   "metadata": {},
   "outputs": [
    {
     "name": "stdout",
     "output_type": "stream",
     "text": [
      "(250, 6)\n"
     ]
    }
   ],
   "source": [
    "print (movie_data.values.shape)"
   ]
  },
  {
   "cell_type": "code",
   "execution_count": 20,
   "metadata": {},
   "outputs": [
    {
     "data": {
      "text/plain": [
       "250"
      ]
     },
     "execution_count": 20,
     "metadata": {},
     "output_type": "execute_result"
    }
   ],
   "source": [
    "len(URLS)\n"
   ]
  },
  {
   "cell_type": "code",
   "execution_count": null,
   "metadata": {},
   "outputs": [],
   "source": []
  },
  {
   "cell_type": "code",
   "execution_count": null,
   "metadata": {},
   "outputs": [],
   "source": []
  },
  {
   "cell_type": "code",
   "execution_count": 22,
   "metadata": {},
   "outputs": [
    {
     "name": "stdout",
     "output_type": "stream",
     "text": [
      "10\n",
      "20\n",
      "30\n",
      "40\n",
      "50\n",
      "60\n",
      "70\n",
      "80\n",
      "90\n",
      "100\n",
      "110\n",
      "120\n",
      "130\n",
      "140\n",
      "150\n",
      "160\n",
      "170\n",
      "180\n",
      "190\n",
      "200\n",
      "210\n",
      "220\n",
      "230\n",
      "240\n",
      "250\n"
     ]
    }
   ],
   "source": [
    "SUMMARY=[]\n",
    "COLLECTION=[]\n",
    "GENRE=[]\n",
    "cnt=0\n",
    "for i in range(len(URLS)):\n",
    "    url = URLS[i]\n",
    "    cnt+=1\n",
    "    if(cnt%10==0):\n",
    "        print(cnt)\n",
    "## Fetch the webpage\n",
    "    r = requests.get(url)\n",
    "    soup = BeautifulSoup(r.text, 'html.parser')\n",
    "    info_genre= soup.find_all('span', {'class': 'itemprop'})\n",
    "    genre=info_genre[0].text\n",
    "    #print(genre)\n",
    "    #print(info_genre[0].text)\n",
    "    info_summary= soup.find_all('div', {'class': 'summary_text'})\n",
    "    summary=info_summary[0].text.strip()\n",
    "    #print(info_summary[0].text)\n",
    "    if(soup.find('h4', text='Budget:')):\n",
    "        info_collection= soup.find('h4', text='Budget:').next_sibling\n",
    "    else:\n",
    "        info_collection=\"NOT AVAILABLE\"\n",
    "    collection=info_collection.strip()\n",
    "    SUMMARY.append(summary.encode('utf-8'))\n",
    "    COLLECTION.append(collection.encode('utf-8'))\n",
    "    GENRE.append(genre.encode('utf-8'))\n",
    "    "
   ]
  },
  {
   "cell_type": "code",
   "execution_count": 23,
   "metadata": {},
   "outputs": [
    {
     "data": {
      "text/plain": [
       "[b'$25,000,000',\n",
       " b'$6,000,000',\n",
       " b'$13,000,000',\n",
       " b'$185,000,000',\n",
       " b'$350,000',\n",
       " b'$22,000,000',\n",
       " b'$94,000,000',\n",
       " b'$8,000,000',\n",
       " b'$1,200,000',\n",
       " b'$63,000,000',\n",
       " b'$93,000,000',\n",
       " b'$55,000,000',\n",
       " b'$18,000,000',\n",
       " b'$160,000,000',\n",
       " b'$94,000,000',\n",
       " b'$4,400,000',\n",
       " b'$25,000,000',\n",
       " b'$63,000,000',\n",
       " b'$2,000,000',\n",
       " b'$321,000,000',\n",
       " b'$3,300,000',\n",
       " b'$11,000,000',\n",
       " b'$33,000,000',\n",
       " b'$19,000,000',\n",
       " b'$3,180,000',\n",
       " b'$20,000,000',\n",
       " b'$6,000,000',\n",
       " b'$19,000,000',\n",
       " b'$70,000,000',\n",
       " b'FRF\\xc2\\xa0115,000,000',\n",
       " b'$60,000,000',\n",
       " b'$165,000,000',\n",
       " b'$7,500,000',\n",
       " b'$806,947',\n",
       " b'$5,000,000',\n",
       " b'$1,500,000',\n",
       " b'$950,000',\n",
       " b'$1,500,000',\n",
       " b'\\xe2\\x82\\xac9,500,000',\n",
       " b'$35,000,000',\n",
       " b'$90,000,000',\n",
       " b'$102,000,000',\n",
       " b'$19,000,000',\n",
       " b'$18,000,000',\n",
       " b'$1,000,000',\n",
       " b'$3,300,000',\n",
       " b'$103,000,000',\n",
       " b'$45,000,000',\n",
       " b'$40,000,000',\n",
       " b'$9,000,000',\n",
       " b'$31,500,000',\n",
       " b'$11,000,000',\n",
       " b'$2,000,000',\n",
       " b'$5,000,000',\n",
       " b'$1,752,000',\n",
       " b'$3,700,000',\n",
       " b'$1,800,000',\n",
       " b'$2,000,000',\n",
       " b'$935,000',\n",
       " b'$19,000,000',\n",
       " b'$100,000,000',\n",
       " b'$180,000,000',\n",
       " b'NOT AVAILABLE',\n",
       " b'JPY\\xc2\\xa02,400,000,000',\n",
       " b'$15,000,000',\n",
       " b'$250,000,000',\n",
       " b'$3,000,000',\n",
       " b'$3,000,000',\n",
       " b'$18,500,000',\n",
       " b'$30,000,000',\n",
       " b'$14,000,000',\n",
       " b'$839,727',\n",
       " b'$2,479,000',\n",
       " b'$3,101,000',\n",
       " b'$72,000,000',\n",
       " b'$1,200,000',\n",
       " b'$32,500,000',\n",
       " b'NOT AVAILABLE',\n",
       " b'NOT AVAILABLE',\n",
       " b'INR\\xc2\\xa0700,000,000',\n",
       " b'$4,500,000',\n",
       " b'$18,000,000',\n",
       " b'NOT AVAILABLE',\n",
       " b'FRF\\xc2\\xa077,000,000',\n",
       " b'$2,200,000',\n",
       " b'$15,000,000',\n",
       " b'$20,000,000',\n",
       " b'$927,262',\n",
       " b'$1,300,000',\n",
       " b'$12,000,000',\n",
       " b'INR\\xc2\\xa0550,000,000',\n",
       " b'$2,540,800',\n",
       " b'$30,000,000',\n",
       " b'$30,000,000',\n",
       " b'$2,000,000',\n",
       " b'$75,000,000',\n",
       " b'$133,000',\n",
       " b'$5,500,000',\n",
       " b'$250,000',\n",
       " b'$200,000,000',\n",
       " b'\\xc2\\xa36,000,000',\n",
       " b'$10,000,000',\n",
       " b'$3,800,000',\n",
       " b'\\xc2\\xa3229,575',\n",
       " b'$600,000',\n",
       " b'$25,000,000',\n",
       " b'$35,000,000',\n",
       " b'$3,000,000',\n",
       " b'DEM\\xc2\\xa06,000,000',\n",
       " b'$500,000',\n",
       " b'$250,000',\n",
       " b'$48,000,000',\n",
       " b'$175,000,000',\n",
       " b'NOT AVAILABLE',\n",
       " b'$1,400,000',\n",
       " b'$150,000,000',\n",
       " b'$2,883,848',\n",
       " b'$14,400,000',\n",
       " b'$3,000,000',\n",
       " b'\\xe2\\x82\\xac13,500,000',\n",
       " b'$28,000,000',\n",
       " b'$60,000,000',\n",
       " b'NOT AVAILABLE',\n",
       " b'$18,000,000',\n",
       " b'NOT AVAILABLE',\n",
       " b'$4,000,000',\n",
       " b'NOT AVAILABLE',\n",
       " b'$6,800,000',\n",
       " b'$180,000',\n",
       " b'\\xe2\\x82\\xac13,500,000',\n",
       " b'$6,000,000',\n",
       " b'$3,700,000',\n",
       " b'$15,000,000',\n",
       " b'$3,000,000',\n",
       " b'$11,500,000',\n",
       " b'$2,000,000',\n",
       " b'$24,000,000',\n",
       " b'$923,000',\n",
       " b'$3,000,000',\n",
       " b'$910,000',\n",
       " b'\\xc2\\xa3960,000',\n",
       " b'$58,000,000',\n",
       " b'$150,000',\n",
       " b'$175,000,000',\n",
       " b'NOT AVAILABLE',\n",
       " b'$13,000,000',\n",
       " b'$1,500,000',\n",
       " b'$5,000,000',\n",
       " b'$100,000,000',\n",
       " b'$54,000,000',\n",
       " b'$28,000,000',\n",
       " b'$25,000,000',\n",
       " b'NOT AVAILABLE',\n",
       " b'$750,000',\n",
       " b'$1,400,000',\n",
       " b'$3,500,000',\n",
       " b'NOT AVAILABLE',\n",
       " b'$3,977,000',\n",
       " b'$25,000,000',\n",
       " b'$40,000,000',\n",
       " b'$33,000,000',\n",
       " b'$25,000,000',\n",
       " b'$7,000,000',\n",
       " b'$15,000,000',\n",
       " b'$15,000,000',\n",
       " b'$94,000,000',\n",
       " b'$15,000,000',\n",
       " b'NOT AVAILABLE',\n",
       " b'$30,000,000',\n",
       " b'$3,200,000',\n",
       " b'$1,288,000',\n",
       " b'$80,000,000',\n",
       " b'NOT AVAILABLE',\n",
       " b'NOT AVAILABLE',\n",
       " b'$40,000,000',\n",
       " b'AUD\\xc2\\xa08,240,000',\n",
       " b'$165,000,000',\n",
       " b'$61,000,000',\n",
       " b'TRL\\xc2\\xa01,200,000',\n",
       " b'$3,300,000',\n",
       " b'$15,000,000',\n",
       " b'$4,000,000',\n",
       " b'$325,000',\n",
       " b'RUR\\xc2\\xa01,000,000',\n",
       " b'$6,000,000',\n",
       " b'$13,000,000',\n",
       " b'$63,000,000',\n",
       " b'NOT AVAILABLE',\n",
       " b'$8,000,000',\n",
       " b'$25,000,000',\n",
       " b'NOT AVAILABLE',\n",
       " b'$17,500,000',\n",
       " b'RUR\\xc2\\xa06,000,000',\n",
       " b'NOT AVAILABLE',\n",
       " b'$15,900,000',\n",
       " b'NOT AVAILABLE',\n",
       " b'$60,000,000',\n",
       " b'NOT AVAILABLE',\n",
       " b'$38,000,000',\n",
       " b'$2,800,000',\n",
       " b'$20,000,000',\n",
       " b'$30,000,000',\n",
       " b'NOT AVAILABLE',\n",
       " b'NOT AVAILABLE',\n",
       " b'$20,000,000',\n",
       " b'$97,000,000',\n",
       " b'$2,500,000',\n",
       " b'$2,000,000',\n",
       " b'$150,000,000',\n",
       " b'$16,000,000',\n",
       " b'$46,000,000',\n",
       " b'$6,000,000',\n",
       " b'$16,000,000',\n",
       " b'$1,000,000',\n",
       " b'$52,000,000',\n",
       " b'$125,000,000',\n",
       " b'$960,000',\n",
       " b'$30,000,000',\n",
       " b'$375,000',\n",
       " b'$800,000',\n",
       " b'$11,000,000',\n",
       " b'$115,000,000',\n",
       " b'NOT AVAILABLE',\n",
       " b'NOT AVAILABLE',\n",
       " b'NOT AVAILABLE',\n",
       " b'NOT AVAILABLE',\n",
       " b'$22,000,000',\n",
       " b'$6,400,000',\n",
       " b'$2,500,000',\n",
       " b'$14,600,000',\n",
       " b'\\xe2\\x82\\xac2,590,000',\n",
       " b'$2,800,000',\n",
       " b'$829,000',\n",
       " b'$16,400,000',\n",
       " b'$8,000,000',\n",
       " b'$110,000,000',\n",
       " b'$25,000,000',\n",
       " b'NOT AVAILABLE',\n",
       " b'$4,000,000',\n",
       " b'NOT AVAILABLE',\n",
       " b'$170,000,000',\n",
       " b'$2,700,000',\n",
       " b'$2,100,000',\n",
       " b'\\xc2\\xa31,162,000',\n",
       " b'$140,000,000',\n",
       " b'$800,000',\n",
       " b'NOT AVAILABLE',\n",
       " b'$25,000,000',\n",
       " b'$29,000,001',\n",
       " b'KRW\\xc2\\xa010,000,000,000']"
      ]
     },
     "execution_count": 23,
     "metadata": {},
     "output_type": "execute_result"
    }
   ],
   "source": [
    "COLLECTION"
   ]
  },
  {
   "cell_type": "code",
   "execution_count": 24,
   "metadata": {},
   "outputs": [
    {
     "name": "stdout",
     "output_type": "stream",
     "text": [
      "250\n"
     ]
    }
   ],
   "source": [
    "print(len(COLLECTION))\n"
   ]
  },
  {
   "cell_type": "code",
   "execution_count": 25,
   "metadata": {},
   "outputs": [],
   "source": [
    "new_df= pd.DataFrame({'Title': TITLES, 'Rating': RATINGS, 'Year': YEARS, 'URL': URLS, 'Director': DIRECTORS, 'Actors': ACTORS,'Summary':SUMMARY,'Collection':COLLECTION,'Genre':GENRE}, columns=['Title', 'Year', 'Rating', 'Director', 'Actors', 'URL','GENRE','Collection','Summary'])"
   ]
  },
  {
   "cell_type": "code",
   "execution_count": 26,
   "metadata": {},
   "outputs": [
    {
     "data": {
      "text/html": [
       "<div>\n",
       "<style scoped>\n",
       "    .dataframe tbody tr th:only-of-type {\n",
       "        vertical-align: middle;\n",
       "    }\n",
       "\n",
       "    .dataframe tbody tr th {\n",
       "        vertical-align: top;\n",
       "    }\n",
       "\n",
       "    .dataframe thead th {\n",
       "        text-align: right;\n",
       "    }\n",
       "</style>\n",
       "<table border=\"1\" class=\"dataframe\">\n",
       "  <thead>\n",
       "    <tr style=\"text-align: right;\">\n",
       "      <th></th>\n",
       "      <th>Title</th>\n",
       "      <th>Year</th>\n",
       "      <th>Rating</th>\n",
       "      <th>Director</th>\n",
       "      <th>Actors</th>\n",
       "      <th>URL</th>\n",
       "      <th>GENRE</th>\n",
       "      <th>Collection</th>\n",
       "      <th>Summary</th>\n",
       "    </tr>\n",
       "  </thead>\n",
       "  <tbody>\n",
       "    <tr>\n",
       "      <th>0</th>\n",
       "      <td>b'The Shawshank Redemption'</td>\n",
       "      <td>b'1994'</td>\n",
       "      <td>b'9.2'</td>\n",
       "      <td>b'Frank Darabont'</td>\n",
       "      <td>b'Tim Robbins, Morgan Freeman'</td>\n",
       "      <td>b'https://www.imdb.com/title/tt0111161/?pf_rd_...</td>\n",
       "      <td>NaN</td>\n",
       "      <td>b'$25,000,000'</td>\n",
       "      <td>b'Two imprisoned men bond over a number of yea...</td>\n",
       "    </tr>\n",
       "    <tr>\n",
       "      <th>1</th>\n",
       "      <td>b'The Godfather'</td>\n",
       "      <td>b'1972'</td>\n",
       "      <td>b'9.2'</td>\n",
       "      <td>b'Francis Ford Coppola'</td>\n",
       "      <td>b'Marlon Brando, Al Pacino'</td>\n",
       "      <td>b'https://www.imdb.com/title/tt0068646/?pf_rd_...</td>\n",
       "      <td>NaN</td>\n",
       "      <td>b'$6,000,000'</td>\n",
       "      <td>b'The aging patriarch of an organized crime dy...</td>\n",
       "    </tr>\n",
       "    <tr>\n",
       "      <th>2</th>\n",
       "      <td>b'The Godfather: Part II'</td>\n",
       "      <td>b'1974'</td>\n",
       "      <td>b'9.0'</td>\n",
       "      <td>b'Francis Ford Coppola'</td>\n",
       "      <td>b'Al Pacino, Robert De Niro'</td>\n",
       "      <td>b'https://www.imdb.com/title/tt0071562/?pf_rd_...</td>\n",
       "      <td>NaN</td>\n",
       "      <td>b'$13,000,000'</td>\n",
       "      <td>b'The early life and career of Vito Corleone i...</td>\n",
       "    </tr>\n",
       "    <tr>\n",
       "      <th>3</th>\n",
       "      <td>b'The Dark Knight'</td>\n",
       "      <td>b'2008'</td>\n",
       "      <td>b'9.0'</td>\n",
       "      <td>b'Christopher Nolan'</td>\n",
       "      <td>b'Christian Bale, Heath Ledger'</td>\n",
       "      <td>b'https://www.imdb.com/title/tt0468569/?pf_rd_...</td>\n",
       "      <td>NaN</td>\n",
       "      <td>b'$185,000,000'</td>\n",
       "      <td>b'When the menace known as the Joker emerges f...</td>\n",
       "    </tr>\n",
       "  </tbody>\n",
       "</table>\n",
       "</div>"
      ],
      "text/plain": [
       "                         Title     Year  Rating                 Director  \\\n",
       "0  b'The Shawshank Redemption'  b'1994'  b'9.2'        b'Frank Darabont'   \n",
       "1             b'The Godfather'  b'1972'  b'9.2'  b'Francis Ford Coppola'   \n",
       "2    b'The Godfather: Part II'  b'1974'  b'9.0'  b'Francis Ford Coppola'   \n",
       "3           b'The Dark Knight'  b'2008'  b'9.0'     b'Christopher Nolan'   \n",
       "\n",
       "                            Actors  \\\n",
       "0   b'Tim Robbins, Morgan Freeman'   \n",
       "1      b'Marlon Brando, Al Pacino'   \n",
       "2     b'Al Pacino, Robert De Niro'   \n",
       "3  b'Christian Bale, Heath Ledger'   \n",
       "\n",
       "                                                 URL GENRE       Collection  \\\n",
       "0  b'https://www.imdb.com/title/tt0111161/?pf_rd_...   NaN   b'$25,000,000'   \n",
       "1  b'https://www.imdb.com/title/tt0068646/?pf_rd_...   NaN    b'$6,000,000'   \n",
       "2  b'https://www.imdb.com/title/tt0071562/?pf_rd_...   NaN   b'$13,000,000'   \n",
       "3  b'https://www.imdb.com/title/tt0468569/?pf_rd_...   NaN  b'$185,000,000'   \n",
       "\n",
       "                                             Summary  \n",
       "0  b'Two imprisoned men bond over a number of yea...  \n",
       "1  b'The aging patriarch of an organized crime dy...  \n",
       "2  b'The early life and career of Vito Corleone i...  \n",
       "3  b'When the menace known as the Joker emerges f...  "
      ]
     },
     "execution_count": 26,
     "metadata": {},
     "output_type": "execute_result"
    }
   ],
   "source": [
    "new_df.head(n=4)"
   ]
  },
  {
   "cell_type": "code",
   "execution_count": 27,
   "metadata": {},
   "outputs": [
    {
     "data": {
      "text/html": [
       "<div>\n",
       "<style scoped>\n",
       "    .dataframe tbody tr th:only-of-type {\n",
       "        vertical-align: middle;\n",
       "    }\n",
       "\n",
       "    .dataframe tbody tr th {\n",
       "        vertical-align: top;\n",
       "    }\n",
       "\n",
       "    .dataframe thead th {\n",
       "        text-align: right;\n",
       "    }\n",
       "</style>\n",
       "<table border=\"1\" class=\"dataframe\">\n",
       "  <thead>\n",
       "    <tr style=\"text-align: right;\">\n",
       "      <th></th>\n",
       "      <th>Title</th>\n",
       "      <th>Year</th>\n",
       "      <th>Rating</th>\n",
       "      <th>Director</th>\n",
       "      <th>Actors</th>\n",
       "      <th>URL</th>\n",
       "      <th>GENRE</th>\n",
       "      <th>Collection</th>\n",
       "      <th>Summary</th>\n",
       "    </tr>\n",
       "  </thead>\n",
       "  <tbody>\n",
       "    <tr>\n",
       "      <th>0</th>\n",
       "      <td>b'The Shawshank Redemption'</td>\n",
       "      <td>b'1994'</td>\n",
       "      <td>b'9.2'</td>\n",
       "      <td>b'Frank Darabont'</td>\n",
       "      <td>b'Tim Robbins, Morgan Freeman'</td>\n",
       "      <td>b'https://www.imdb.com/title/tt0111161/?pf_rd_...</td>\n",
       "      <td>NaN</td>\n",
       "      <td>b'$25,000,000'</td>\n",
       "      <td>b'Two imprisoned men bond over a number of yea...</td>\n",
       "    </tr>\n",
       "    <tr>\n",
       "      <th>1</th>\n",
       "      <td>b'The Godfather'</td>\n",
       "      <td>b'1972'</td>\n",
       "      <td>b'9.2'</td>\n",
       "      <td>b'Francis Ford Coppola'</td>\n",
       "      <td>b'Marlon Brando, Al Pacino'</td>\n",
       "      <td>b'https://www.imdb.com/title/tt0068646/?pf_rd_...</td>\n",
       "      <td>NaN</td>\n",
       "      <td>b'$6,000,000'</td>\n",
       "      <td>b'The aging patriarch of an organized crime dy...</td>\n",
       "    </tr>\n",
       "    <tr>\n",
       "      <th>2</th>\n",
       "      <td>b'The Godfather: Part II'</td>\n",
       "      <td>b'1974'</td>\n",
       "      <td>b'9.0'</td>\n",
       "      <td>b'Francis Ford Coppola'</td>\n",
       "      <td>b'Al Pacino, Robert De Niro'</td>\n",
       "      <td>b'https://www.imdb.com/title/tt0071562/?pf_rd_...</td>\n",
       "      <td>NaN</td>\n",
       "      <td>b'$13,000,000'</td>\n",
       "      <td>b'The early life and career of Vito Corleone i...</td>\n",
       "    </tr>\n",
       "  </tbody>\n",
       "</table>\n",
       "</div>"
      ],
      "text/plain": [
       "                         Title     Year  Rating                 Director  \\\n",
       "0  b'The Shawshank Redemption'  b'1994'  b'9.2'        b'Frank Darabont'   \n",
       "1             b'The Godfather'  b'1972'  b'9.2'  b'Francis Ford Coppola'   \n",
       "2    b'The Godfather: Part II'  b'1974'  b'9.0'  b'Francis Ford Coppola'   \n",
       "\n",
       "                           Actors  \\\n",
       "0  b'Tim Robbins, Morgan Freeman'   \n",
       "1     b'Marlon Brando, Al Pacino'   \n",
       "2    b'Al Pacino, Robert De Niro'   \n",
       "\n",
       "                                                 URL  GENRE      Collection  \\\n",
       "0  b'https://www.imdb.com/title/tt0111161/?pf_rd_...    NaN  b'$25,000,000'   \n",
       "1  b'https://www.imdb.com/title/tt0068646/?pf_rd_...    NaN   b'$6,000,000'   \n",
       "2  b'https://www.imdb.com/title/tt0071562/?pf_rd_...    NaN  b'$13,000,000'   \n",
       "\n",
       "                                             Summary  \n",
       "0  b'Two imprisoned men bond over a number of yea...  \n",
       "1  b'The aging patriarch of an organized crime dy...  \n",
       "2  b'The early life and career of Vito Corleone i...  "
      ]
     },
     "execution_count": 27,
     "metadata": {},
     "output_type": "execute_result"
    }
   ],
   "source": [
    "new_df.to_csv('./imdb1.csv', index=False)\n",
    "movie_data1 = pd.read_csv('imdb1.csv')\n",
    "movie_data1.head(n=3)"
   ]
  },
  {
   "cell_type": "code",
   "execution_count": null,
   "metadata": {},
   "outputs": [],
   "source": []
  }
 ],
 "metadata": {
  "kernelspec": {
   "display_name": "Python 3",
   "language": "python",
   "name": "python3"
  },
  "language_info": {
   "codemirror_mode": {
    "name": "ipython",
    "version": 3
   },
   "file_extension": ".py",
   "mimetype": "text/x-python",
   "name": "python",
   "nbconvert_exporter": "python",
   "pygments_lexer": "ipython3",
   "version": "3.6.5"
  }
 },
 "nbformat": 4,
 "nbformat_minor": 2
}
